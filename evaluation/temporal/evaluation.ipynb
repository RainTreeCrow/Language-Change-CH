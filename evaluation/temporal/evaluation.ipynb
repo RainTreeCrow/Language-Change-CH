{
 "cells": [
  {
   "cell_type": "markdown",
   "metadata": {},
   "source": [
    "Testing temporal word embeddings against the ChiWUG COMPARE score."
   ]
  },
  {
   "cell_type": "code",
   "execution_count": 21,
   "metadata": {},
   "outputs": [],
   "source": [
    "import pandas as pd\n",
    "import numpy as np\n",
    "import scipy.stats as stats\n",
    "from gensim.models.word2vec import Word2Vec\n",
    "\n",
    "df = pd.read_csv('chi_wug/stats_groupings.csv', sep='\\t')\n",
    "\n",
    "lemma = df[['lemma', 'COMPARE']].to_records(index=False).tolist()\n",
    "lemma = sorted(lemma, key=lambda x: x[1])\n",
    "\n",
    "to_csv = df[['lemma', 'COMPARE']].copy()\n",
    "\n",
    "\n",
    "def cosine_sim(x,y):\n",
    "    num = np.dot(x, y)\n",
    "    denom = np.linalg.norm(x) * np.linalg.norm(y)\n",
    "    return num / denom\n",
    "\n",
    "\n",
    "def word_compare(model1, model2, lemma, name_type=None):\n",
    "    word_compare_std = []\n",
    "    word_compare_pre = []\n",
    "    for word, COMPARE in lemma:\n",
    "        if word in model1.wv.vocab and word in model2.wv.vocab:\n",
    "            word_compare_std.append(float(COMPARE))\n",
    "            word_vec1 = model1.wv[word]\n",
    "            word_vec2 = model2.wv[word]\n",
    "            cos_sim = cosine_sim(word_vec1, word_vec2)\n",
    "            word_compare_pre.append(cos_sim)\n",
    "            if name_type:\n",
    "                to_csv.loc[to_csv['lemma'] == word, name_type] = cos_sim\n",
    "        else:\n",
    "            print('Skip:', word)\n",
    "    \n",
    "    spear_coef, p_value = stats.spearmanr(word_compare_std, word_compare_pre)\n",
    "    print(\"Spearman Score: \" + str(spear_coef))\n",
    "    print(\"P value: \", str(p_value))"
   ]
  },
  {
   "cell_type": "code",
   "execution_count": 14,
   "metadata": {},
   "outputs": [
    {
     "name": "stdout",
     "output_type": "stream",
     "text": [
      "Testing compass + sgns\n",
      "============================\n",
      "Spearman Score: 0.47956839227017584\n",
      "P value:  0.0017411354807959107\n",
      "............................\n",
      "Testing compass + cbow\n",
      "============================\n",
      "Spearman Score: 0.4079756152593865\n",
      "P value:  0.008968792241685229\n",
      "............................\n",
      "Testing alignment + sgns\n",
      "============================\n",
      "Spearman Score: 0.5125967769461888\n",
      "P value:  0.0007202625509275671\n",
      "............................\n",
      "Testing alignment + cbow\n",
      "============================\n",
      "Spearman Score: 0.43818908078687563\n",
      "P value:  0.004683429482687941\n",
      "............................\n"
     ]
    }
   ],
   "source": [
    "for model_name in ['compass', 'alignment']:\n",
    "    for model_type in ['sgns', 'cbow']:\n",
    "        name_type = model_name + '-' + model_type\n",
    "        print('Testing ' + model_name + ' + ' + model_type)\n",
    "        print('============================')\n",
    "        model_path_before = '../../' + model_name + '/2-slices/model-' + model_type + '/1954-1978.model'\n",
    "        model_before = Word2Vec.load(model_path_before)\n",
    "        model_path_after = '../../' + model_name + '/2-slices/model-' + model_type + '/1979-2003.model'\n",
    "        model_after = Word2Vec.load(model_path_after)\n",
    "        word_compare(model_before, model_after, lemma, name_type)\n",
    "        print('............................')"
   ]
  },
  {
   "cell_type": "code",
   "execution_count": 17,
   "metadata": {},
   "outputs": [],
   "source": [
    "to_csv.to_csv('temporal_eval.csv', index=False)"
   ]
  },
  {
   "cell_type": "markdown",
   "metadata": {},
   "source": [
    "Model works especially unwell with one-character \"words\", this may be due to the nature of Chinese (that boundary between characters and words can be obscure). Therefore, we also try removing one-character test examples and test the rest."
   ]
  },
  {
   "cell_type": "code",
   "execution_count": 22,
   "metadata": {},
   "outputs": [
    {
     "name": "stdout",
     "output_type": "stream",
     "text": [
      "Testing compass + sgns\n",
      "============================\n",
      "Spearman Score: 0.7147749176265942\n",
      "P value:  1.924946927725772e-05\n",
      "............................\n",
      "Testing compass + cbow\n",
      "============================\n",
      "Spearman Score: 0.6391895240384947\n",
      "P value:  0.00025073629738325105\n",
      "............................\n",
      "Testing alignment + sgns\n",
      "============================\n",
      "Spearman Score: 0.7585925370979563\n",
      "P value:  2.8997465686242916e-06\n",
      "............................\n",
      "Testing alignment + cbow\n",
      "============================\n",
      "Spearman Score: 0.6684925570599681\n",
      "P value:  0.0001009879916808052\n",
      "............................\n"
     ]
    }
   ],
   "source": [
    "lemma_no_ch = [pair for pair in lemma if len(pair[0]) > 1]\n",
    "\n",
    "for model_name in ['compass', 'alignment']:\n",
    "    for model_type in ['sgns', 'cbow']:\n",
    "        name_type = model_name + '-' + model_type\n",
    "        print('Testing ' + model_name + ' + ' + model_type)\n",
    "        print('============================')\n",
    "        model_path_before = '../../' + model_name + '/2-slices/model-' + model_type + '/1954-1978.model'\n",
    "        model_before = Word2Vec.load(model_path_before)\n",
    "        model_path_after = '../../' + model_name + '/2-slices/model-' + model_type + '/1979-2003.model'\n",
    "        model_after = Word2Vec.load(model_path_after)\n",
    "        word_compare(model_before, model_after, lemma_no_ch, name_type)\n",
    "        print('............................')"
   ]
  },
  {
   "cell_type": "markdown",
   "metadata": {},
   "source": [
    "And we test the one-character examples only."
   ]
  },
  {
   "cell_type": "code",
   "execution_count": 23,
   "metadata": {},
   "outputs": [
    {
     "name": "stdout",
     "output_type": "stream",
     "text": [
      "Testing compass + sgns\n",
      "============================\n",
      "Spearman Score: 0.04895104895104895\n",
      "P value:  0.879918578878675\n",
      "............................\n",
      "Testing compass + cbow\n",
      "============================\n",
      "Spearman Score: 0.2517482517482518\n",
      "P value:  0.42991878503288405\n",
      "............................\n",
      "Testing alignment + sgns\n",
      "============================\n",
      "Spearman Score: 0.06993006993006995\n",
      "P value:  0.8290236405313092\n",
      "............................\n",
      "Testing alignment + cbow\n",
      "============================\n",
      "Spearman Score: 0.20979020979020982\n",
      "P value:  0.5128409431818262\n",
      "............................\n"
     ]
    }
   ],
   "source": [
    "lemma_only_ch = [pair for pair in lemma if len(pair[0]) == 1]\n",
    "\n",
    "for model_name in ['compass', 'alignment']:\n",
    "    for model_type in ['sgns', 'cbow']:\n",
    "        name_type = model_name + '-' + model_type\n",
    "        print('Testing ' + model_name + ' + ' + model_type)\n",
    "        print('============================')\n",
    "        model_path_before = '../../' + model_name + '/2-slices/model-' + model_type + '/1954-1978.model'\n",
    "        model_before = Word2Vec.load(model_path_before)\n",
    "        model_path_after = '../../' + model_name + '/2-slices/model-' + model_type + '/1979-2003.model'\n",
    "        model_after = Word2Vec.load(model_path_after)\n",
    "        word_compare(model_before, model_after, lemma_only_ch, name_type)\n",
    "        print('............................')"
   ]
  }
 ],
 "metadata": {
  "kernelspec": {
   "display_name": "virtual",
   "language": "python",
   "name": "python3"
  },
  "language_info": {
   "codemirror_mode": {
    "name": "ipython",
    "version": 3
   },
   "file_extension": ".py",
   "mimetype": "text/x-python",
   "name": "python",
   "nbconvert_exporter": "python",
   "pygments_lexer": "ipython3",
   "version": "3.7.9"
  }
 },
 "nbformat": 4,
 "nbformat_minor": 2
}
