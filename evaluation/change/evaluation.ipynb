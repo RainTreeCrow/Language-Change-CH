{
 "cells": [
  {
   "cell_type": "markdown",
   "metadata": {},
   "source": [
    "Testing temporal word embeddings against the ChiWUG COMPARE score."
   ]
  },
  {
   "cell_type": "code",
   "execution_count": 1,
   "metadata": {},
   "outputs": [],
   "source": [
    "import pandas as pd\n",
    "import numpy as np\n",
    "import scipy.stats as stats\n",
    "from gensim.models.word2vec import Word2Vec\n",
    "\n",
    "df = pd.read_csv('chi_wug/stats_groupings.csv', sep='\\t')\n",
    "\n",
    "lemma = df[['lemma', 'COMPARE']].to_records(index=False).tolist()\n",
    "lemma = sorted(lemma, key=lambda x: x[1])\n",
    "\n",
    "to_csv = df[['lemma', 'COMPARE']].copy()\n",
    "\n",
    "\n",
    "def cosine_sim(x,y):\n",
    "    num = np.dot(x, y)\n",
    "    denom = np.linalg.norm(x) * np.linalg.norm(y)\n",
    "    return num / denom\n",
    "\n",
    "\n",
    "def word_compare(model1, model2, lemma, name_type=None):\n",
    "    word_compare_std = []\n",
    "    word_compare_pre = []\n",
    "    for word, COMPARE in lemma:\n",
    "        if word in model1.wv.vocab and word in model2.wv.vocab:\n",
    "            word_compare_std.append(float(COMPARE))\n",
    "            word_vec1 = model1.wv[word]\n",
    "            word_vec2 = model2.wv[word]\n",
    "            cos_sim = cosine_sim(word_vec1, word_vec2)\n",
    "            word_compare_pre.append(cos_sim)\n",
    "            if name_type:\n",
    "                to_csv.loc[to_csv['lemma'] == word, name_type] = cos_sim\n",
    "        else:\n",
    "            print('Skip:', word)\n",
    "    \n",
    "    spear_coef, p_value = stats.spearmanr(word_compare_std, word_compare_pre)\n",
    "    print(\"Spearman Score: \" + str(spear_coef))\n",
    "    print(\"P value: \", str(p_value))"
   ]
  },
  {
   "cell_type": "code",
   "execution_count": 2,
   "metadata": {},
   "outputs": [
    {
     "name": "stdout",
     "output_type": "stream",
     "text": [
      "Testing compass + sgns\n",
      "============================\n",
      "Spearman Score: 0.43621863738290895\n",
      "P value:  0.004894881430871465\n",
      "............................\n",
      "Testing compass + cbow\n",
      "============================\n",
      "Spearman Score: 0.4233638399379835\n",
      "P value:  0.006488710918843536\n",
      "............................\n",
      "Testing alignment + sgns\n",
      "============================\n",
      "Spearman Score: 0.5197279054557825\n",
      "P value:  0.0005882357109100949\n",
      "............................\n",
      "Testing alignment + cbow\n",
      "============================\n",
      "Spearman Score: 0.46352335312359005\n",
      "P value:  0.0025927700110183107\n",
      "............................\n"
     ]
    }
   ],
   "source": [
    "for model_name in ['compass', 'alignment']:\n",
    "    for model_type in ['sgns', 'cbow']:\n",
    "        name_type = model_name + '-' + model_type\n",
    "        print('Testing ' + model_name + ' + ' + model_type)\n",
    "        print('============================')\n",
    "        model_path_before = '../../' + model_name + '/2-slices/model-' + model_type + '/1954-1978.model'\n",
    "        model_before = Word2Vec.load(model_path_before)\n",
    "        model_path_after = '../../' + model_name + '/2-slices/model-' + model_type + '/1979-2003.model'\n",
    "        model_after = Word2Vec.load(model_path_after)\n",
    "        word_compare(model_before, model_after, lemma, name_type)\n",
    "        print('............................')"
   ]
  },
  {
   "cell_type": "code",
   "execution_count": 3,
   "metadata": {},
   "outputs": [],
   "source": [
    "to_csv.to_csv('change_eval.csv', index=False)"
   ]
  },
  {
   "cell_type": "markdown",
   "metadata": {},
   "source": [
    "Model works especially unwell with one-character \"words\", this may be due to the nature of Chinese (that boundary between characters and words can be obscure). Therefore, we also try removing one-character test examples and test the rest."
   ]
  },
  {
   "cell_type": "code",
   "execution_count": 4,
   "metadata": {},
   "outputs": [
    {
     "name": "stdout",
     "output_type": "stream",
     "text": [
      "Testing compass + sgns\n",
      "============================\n",
      "Spearman Score: 0.6668493963297919\n",
      "P value:  0.00010654845431080361\n",
      "............................\n",
      "Testing compass + cbow\n",
      "============================\n",
      "Spearman Score: 0.6463098872025911\n",
      "P value:  0.00020278225869589658\n",
      "............................\n",
      "Testing alignment + sgns\n",
      "============================\n",
      "Spearman Score: 0.7125840366530262\n",
      "P value:  2.09687559579652e-05\n",
      "............................\n",
      "Testing alignment + cbow\n",
      "============================\n",
      "Spearman Score: 0.6616460540175677\n",
      "P value:  0.00012598960199119188\n",
      "............................\n"
     ]
    }
   ],
   "source": [
    "lemma_no_ch = [pair for pair in lemma if len(pair[0]) > 1]\n",
    "\n",
    "for model_name in ['compass', 'alignment']:\n",
    "    for model_type in ['sgns', 'cbow']:\n",
    "        name_type = model_name + '-' + model_type\n",
    "        print('Testing ' + model_name + ' + ' + model_type)\n",
    "        print('============================')\n",
    "        model_path_before = '../../' + model_name + '/2-slices/model-' + model_type + '/1954-1978.model'\n",
    "        model_before = Word2Vec.load(model_path_before)\n",
    "        model_path_after = '../../' + model_name + '/2-slices/model-' + model_type + '/1979-2003.model'\n",
    "        model_after = Word2Vec.load(model_path_after)\n",
    "        word_compare(model_before, model_after, lemma_no_ch, name_type)\n",
    "        print('............................')"
   ]
  },
  {
   "cell_type": "markdown",
   "metadata": {},
   "source": [
    "And we test the one-character examples only."
   ]
  },
  {
   "cell_type": "code",
   "execution_count": 5,
   "metadata": {},
   "outputs": [
    {
     "name": "stdout",
     "output_type": "stream",
     "text": [
      "Testing compass + sgns\n",
      "============================\n",
      "Spearman Score: 0.034965034965034975\n",
      "P value:  0.9140933424107598\n",
      "............................\n",
      "Testing compass + cbow\n",
      "============================\n",
      "Spearman Score: 0.3216783216783217\n",
      "P value:  0.30790987618065263\n",
      "............................\n",
      "Testing alignment + sgns\n",
      "============================\n",
      "Spearman Score: 0.18181818181818185\n",
      "P value:  0.5717012385276553\n",
      "............................\n",
      "Testing alignment + cbow\n",
      "============================\n",
      "Spearman Score: 0.23076923076923078\n",
      "P value:  0.470531995381542\n",
      "............................\n"
     ]
    }
   ],
   "source": [
    "lemma_only_ch = [pair for pair in lemma if len(pair[0]) == 1]\n",
    "\n",
    "for model_name in ['compass', 'alignment']:\n",
    "    for model_type in ['sgns', 'cbow']:\n",
    "        name_type = model_name + '-' + model_type\n",
    "        print('Testing ' + model_name + ' + ' + model_type)\n",
    "        print('============================')\n",
    "        model_path_before = '../../' + model_name + '/2-slices/model-' + model_type + '/1954-1978.model'\n",
    "        model_before = Word2Vec.load(model_path_before)\n",
    "        model_path_after = '../../' + model_name + '/2-slices/model-' + model_type + '/1979-2003.model'\n",
    "        model_after = Word2Vec.load(model_path_after)\n",
    "        word_compare(model_before, model_after, lemma_only_ch, name_type)\n",
    "        print('............................')"
   ]
  }
 ],
 "metadata": {
  "kernelspec": {
   "display_name": "virtual",
   "language": "python",
   "name": "python3"
  },
  "language_info": {
   "codemirror_mode": {
    "name": "ipython",
    "version": 3
   },
   "file_extension": ".py",
   "mimetype": "text/x-python",
   "name": "python",
   "nbconvert_exporter": "python",
   "pygments_lexer": "ipython3",
   "version": "3.7.9"
  }
 },
 "nbformat": 4,
 "nbformat_minor": 2
}
