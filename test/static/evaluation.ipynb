{
 "cells": [
  {
   "cell_type": "markdown",
   "metadata": {},
   "source": [
    "Testing quality of static (compass) word embeddings (similarity task and analogy task) and temporal (target) embeddings."
   ]
  },
  {
   "cell_type": "code",
   "execution_count": 32,
   "metadata": {},
   "outputs": [],
   "source": [
    "import numpy as np\n",
    "import scipy.stats as stats\n",
    "from gensim.models.word2vec import Word2Vec\n",
    "\n",
    "\n",
    "def cosine_sim(x,y):\n",
    "    num = np.dot(x, y)\n",
    "    denom = np.linalg.norm(x) * np.linalg.norm(y)\n",
    "    return num / denom\n",
    "\n",
    "\n",
    "def word_sim(model):\n",
    "    for sim in ['240', '297']:\n",
    "        file = open('word_sim/' + sim + '.txt', 'r', encoding='utf-8')\n",
    "        test_pair_num = 0\n",
    "        skip_pair_num = 0\n",
    "        word_sim_std = []\n",
    "        word_sim_pre = []\n",
    "        for line in file:\n",
    "            word1, word2, val_str = line.strip().split()[0:3]\n",
    "            if word1 in model.wv and word2 in model.wv:\n",
    "                test_pair_num += 1\n",
    "                word_sim_std.append(float(val_str))\n",
    "                word_vec1 = model.wv[word1]\n",
    "                word_vec2 = model.wv[word2]\n",
    "                cos_sim = cosine_sim(word_vec1, word_vec2)\n",
    "                word_sim_pre.append(cos_sim)\n",
    "            else:\n",
    "                skip_pair_num += 1\n",
    "                # print('Skip:', word1, word2)\n",
    "\n",
    "        spear_coef, _ = stats.spearmanr(word_sim_std, word_sim_pre)\n",
    "        print(\"{}: Spearman Score: {:.4f}\".format(sim, spear_coef))\n",
    "        print(\"  Test pair: {}, Skip pair: {}\".format(test_pair_num, skip_pair_num))\n",
    "\n",
    "\n",
    "def word_analogy(model):\n",
    "    top_one_all = 0\n",
    "    top_five_all = 0\n",
    "    total_all = 0\n",
    "\n",
    "    for ana in ['capital', 'city', 'family']:\n",
    "        file = open('word_analogy/' + ana + '.txt', 'r', encoding='utf-8')\n",
    "        test_pair_num = 0\n",
    "        skip_pair_num = 0\n",
    "        top_one = 0\n",
    "        top_five = 0\n",
    "        for line in file:\n",
    "            word1, word2, word3, word4 = line.strip().split()[0:4]\n",
    "            if word1 in model.wv and word2 in model.wv and word3 in model.wv:\n",
    "                test_pair_num += 1\n",
    "                predicted = model.wv.most_similar(positive=[word2, word3], negative=[word1])[0][0]\n",
    "                if predicted == word4:\n",
    "                    top_one += 1\n",
    "                else:\n",
    "                    # print('Target: ' + word4 + ', prediction: ' + predicted)\n",
    "                    five = model.wv.most_similar(positive=[word2, word3], negative=[word1])[:5]\n",
    "                    if word4 in [pair[0] for pair in five]:\n",
    "                        top_five += 1\n",
    "            else:\n",
    "                skip_pair_num += 1\n",
    "                # print('Skip:', word1, word2, word3, word4)\n",
    "            \n",
    "        print(\"{}: Accuracy: {:.4f}\".format(ana, top_one / test_pair_num))\n",
    "        print(\"  Top five: {:.4f}\".format((top_one + top_five) / test_pair_num))\n",
    "        # print(\"  TestPair: {}, SkipPair: {}\".format(test_pair_num, skip_pair_num))\n",
    "        top_one_all += top_one\n",
    "        top_five_all += top_five\n",
    "        total_all += test_pair_num\n",
    "    \n",
    "    print(\"total: Accuracy: {:.4f}\".format(top_one_all / total_all))\n",
    "    print(\"  Top five: {:.4f}\".format((top_one_all + top_five_all) / total_all))"
   ]
  },
  {
   "cell_type": "code",
   "execution_count": 15,
   "metadata": {},
   "outputs": [
    {
     "name": "stdout",
     "output_type": "stream",
     "text": [
      "240: Spearman Score: 0.5646\n",
      "  Test pair: 231, Skip pair: 9\n",
      "297: Spearman Score: 0.5852\n",
      "  Test pair: 284, Skip pair: 13\n"
     ]
    }
   ],
   "source": [
    "model_sgns = Word2Vec.load('../../compass/2-slices/model-sgns/compass.model')\n",
    "\n",
    "word_sim(model_sgns)"
   ]
  },
  {
   "cell_type": "code",
   "execution_count": 14,
   "metadata": {},
   "outputs": [
    {
     "name": "stdout",
     "output_type": "stream",
     "text": [
      "240: Spearman Score: 0.4722\n",
      "  Test pair: 231, Skip pair: 9\n",
      "297: Spearman Score: 0.5775\n",
      "  Test pair: 284, Skip pair: 13\n"
     ]
    }
   ],
   "source": [
    "model_cbow = Word2Vec.load('../../compass/2-slices/model-cbow/compass.model')\n",
    "\n",
    "word_sim(model_cbow)"
   ]
  },
  {
   "cell_type": "code",
   "execution_count": 33,
   "metadata": {},
   "outputs": [
    {
     "name": "stdout",
     "output_type": "stream",
     "text": [
      "capital: Accuracy: 0.8227\n",
      "  Top five: 0.9793\n",
      "city: Accuracy: 0.9371\n",
      "  Top five: 0.9943\n",
      "family: Accuracy: 0.6985\n",
      "  Top five: 0.8824\n",
      "total: Accuracy: 0.8105\n",
      "  Top five: 0.9582\n"
     ]
    }
   ],
   "source": [
    "word_analogy(model_sgns)"
   ]
  },
  {
   "cell_type": "code",
   "execution_count": 34,
   "metadata": {},
   "outputs": [
    {
     "name": "stdout",
     "output_type": "stream",
     "text": [
      "capital: Accuracy: 0.8109\n",
      "  Top five: 0.9690\n",
      "city: Accuracy: 0.8400\n",
      "  Top five: 0.9600\n",
      "family: Accuracy: 0.5515\n",
      "  Top five: 0.7941\n",
      "total: Accuracy: 0.7527\n",
      "  Top five: 0.9253\n"
     ]
    }
   ],
   "source": [
    "word_analogy(model_cbow)"
   ]
  },
  {
   "cell_type": "code",
   "execution_count": 40,
   "metadata": {},
   "outputs": [
    {
     "name": "stdout",
     "output_type": "stream",
     "text": [
      "Testing sgns based Word2Vec\n",
      "===========================\n",
      "Slice 1954-1978\n",
      "---------------\n",
      "240: Spearman Score: 0.5178\n",
      "  Test pair: 224, Skip pair: 16\n",
      "297: Spearman Score: 0.5166\n",
      "  Test pair: 274, Skip pair: 23\n",
      "---------------\n",
      "capital: Accuracy: 0.5820\n",
      "  Top five: 0.7962\n",
      "city: Accuracy: 0.6686\n",
      "  Top five: 0.9086\n",
      "family: Accuracy: 0.4154\n",
      "  Top five: 0.6544\n",
      "total: Accuracy: 0.5552\n",
      "  Top five: 0.7794\n",
      "...........................\n",
      "Slice 1979-2003\n",
      "---------------\n",
      "240: Spearman Score: 0.5581\n",
      "  Test pair: 231, Skip pair: 9\n",
      "297: Spearman Score: 0.5967\n",
      "  Test pair: 284, Skip pair: 13\n",
      "---------------\n",
      "capital: Accuracy: 0.8567\n",
      "  Top five: 0.9749\n",
      "city: Accuracy: 0.9657\n",
      "  Top five: 1.0000\n",
      "family: Accuracy: 0.6691\n",
      "  Top five: 0.8199\n",
      "total: Accuracy: 0.8283\n",
      "  Top five: 0.9413\n",
      "...........................\n",
      "Testing cbow based Word2Vec\n",
      "===========================\n",
      "Slice 1954-1978\n",
      "---------------\n",
      "240: Spearman Score: 0.4352\n",
      "  Test pair: 224, Skip pair: 16\n",
      "297: Spearman Score: 0.5459\n",
      "  Test pair: 274, Skip pair: 23\n",
      "---------------\n",
      "capital: Accuracy: 0.5643\n",
      "  Top five: 0.7873\n",
      "city: Accuracy: 0.6514\n",
      "  Top five: 0.8629\n",
      "family: Accuracy: 0.4154\n",
      "  Top five: 0.6066\n",
      "total: Accuracy: 0.5418\n",
      "  Top five: 0.7553\n",
      "...........................\n",
      "Slice 1979-2003\n",
      "---------------\n",
      "240: Spearman Score: 0.4517\n",
      "  Test pair: 231, Skip pair: 9\n",
      "297: Spearman Score: 0.5868\n",
      "  Test pair: 284, Skip pair: 13\n",
      "---------------\n",
      "capital: Accuracy: 0.7710\n",
      "  Top five: 0.9808\n",
      "city: Accuracy: 0.8686\n",
      "  Top five: 0.9771\n",
      "family: Accuracy: 0.6287\n",
      "  Top five: 0.8419\n",
      "total: Accuracy: 0.7518\n",
      "  Top five: 0.9466\n",
      "...........................\n"
     ]
    }
   ],
   "source": [
    "for model_type in ['sgns', 'cbow']:\n",
    "    print('Testing ' + model_type + ' based Word2Vec')\n",
    "    print('===========================')\n",
    "    for year_slice in ['1954-1978', '1979-2003']:\n",
    "        print('Slice ' + year_slice)\n",
    "        print('---------------')\n",
    "        model_path = '../../compass/2-slices/model-' + model_type + '/' + year_slice + '.model'\n",
    "        model = Word2Vec.load(model_path)\n",
    "        word_sim(model)\n",
    "        print('---------------')\n",
    "        word_analogy(model)\n",
    "        print('...........................')"
   ]
  }
 ],
 "metadata": {
  "kernelspec": {
   "display_name": "virtual",
   "language": "python",
   "name": "python3"
  },
  "language_info": {
   "codemirror_mode": {
    "name": "ipython",
    "version": 3
   },
   "file_extension": ".py",
   "mimetype": "text/x-python",
   "name": "python",
   "nbconvert_exporter": "python",
   "pygments_lexer": "ipython3",
   "version": "3.7.9"
  }
 },
 "nbformat": 4,
 "nbformat_minor": 2
}
