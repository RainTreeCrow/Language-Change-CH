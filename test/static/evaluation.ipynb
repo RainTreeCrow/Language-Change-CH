{
 "cells": [
  {
   "cell_type": "markdown",
   "metadata": {},
   "source": []
  },
  {
   "cell_type": "code",
   "execution_count": 32,
   "metadata": {},
   "outputs": [],
   "source": [
    "from numpy import linalg\n",
    "import numpy as np\n",
    "import scipy.stats as stats\n",
    "from gensim.models.word2vec import Word2Vec\n",
    "\n",
    "\n",
    "def cosine_sim(x,y):\n",
    "    num = np.dot(x, y)\n",
    "    denom = np.linalg.norm(x) * np.linalg.norm(y)\n",
    "    return num / denom\n",
    "\n",
    "\n",
    "def word_sim(model):\n",
    "    for sim in ['240', '297']:\n",
    "        file = open('word_sim/' + sim + '.txt', 'r', encoding='utf-8')\n",
    "        test_pair_num = 0\n",
    "        skip_pair_num = 0\n",
    "        word_sim_std = []\n",
    "        word_sim_pre = []\n",
    "        for line in file:\n",
    "            word1, word2, val_str = line.strip().split()[0:3]\n",
    "            if word1 in model.wv and word2 in model.wv:\n",
    "                test_pair_num += 1\n",
    "                word_sim_std.append(float(val_str))\n",
    "                word_vec1 = model.wv[word1]\n",
    "                word_vec2 = model.wv[word2]\n",
    "                cos_sim = cosine_sim(word_vec1, word_vec2)\n",
    "                word_sim_pre.append(cos_sim)\n",
    "            else:\n",
    "                skip_pair_num += 1\n",
    "                # print('Skip:', word1, word2)\n",
    "\n",
    "        spear_coef, _ = stats.spearmanr(word_sim_std, word_sim_pre)\n",
    "        print(\"{}: Spearman Score: {:.4f}\".format(sim, spear_coef))\n",
    "        print(\"  Test pair: {}, Skip pair: {}\".format(test_pair_num, skip_pair_num))\n",
    "\n",
    "\n",
    "def word_analogy(model):\n",
    "    top_one_all = 0\n",
    "    top_five_all = 0\n",
    "    total_all = 0\n",
    "\n",
    "    for ana in ['capital', 'city', 'family']:\n",
    "        file = open('word_analogy/' + ana + '.txt', 'r', encoding='utf-8')\n",
    "        test_pair_num = 0\n",
    "        skip_pair_num = 0\n",
    "        top_one = 0\n",
    "        top_five = 0\n",
    "        for line in file:\n",
    "            word1, word2, word3, word4 = line.strip().split()[0:4]\n",
    "            if word1 in model.wv and word2 in model.wv and word3 in model.wv:\n",
    "                test_pair_num += 1\n",
    "                predicted = model.wv.most_similar(positive=[word2, word3], negative=[word1])[0][0]\n",
    "                if predicted == word4:\n",
    "                    top_one += 1\n",
    "                else:\n",
    "                    # print('Target: ' + word4 + ', prediction: ' + predicted)\n",
    "                    five = model.wv.most_similar(positive=[word2, word3], negative=[word1])[:5]\n",
    "                    if word4 in [pair[0] for pair in five]:\n",
    "                        top_five += 1\n",
    "            else:\n",
    "                skip_pair_num += 1\n",
    "                # print('Skip:', word1, word2, word3, word4)\n",
    "            \n",
    "        print(\"{}: Accuracy: {:.4f}\".format(ana, top_one / test_pair_num))\n",
    "        print(\"  Top five: {:.4f}\".format((top_one + top_five) / test_pair_num))\n",
    "        # print(\"  TestPair: {}, SkipPair: {}\".format(test_pair_num, skip_pair_num))\n",
    "        top_one_all += top_one\n",
    "        top_five_all += top_five\n",
    "        total_all += test_pair_num\n",
    "    \n",
    "    print(\"total: Accuracy: {:.4f}\".format(top_one_all / total_all))\n",
    "    print(\"  Top five: {:.4f}\".format((top_one_all + top_five_all) / total_all))"
   ]
  },
  {
   "cell_type": "code",
   "execution_count": 15,
   "metadata": {},
   "outputs": [
    {
     "name": "stdout",
     "output_type": "stream",
     "text": [
      "240: Spearman Score: 0.5646\n",
      "  Test pair: 231, Skip pair: 9\n",
      "297: Spearman Score: 0.5852\n",
      "  Test pair: 284, Skip pair: 13\n"
     ]
    }
   ],
   "source": [
    "model_sgns = Word2Vec.load('../../compass/2-slices/model-sgns/compass.model')\n",
    "\n",
    "word_sim(model_sgns)"
   ]
  },
  {
   "cell_type": "code",
   "execution_count": 14,
   "metadata": {},
   "outputs": [
    {
     "name": "stdout",
     "output_type": "stream",
     "text": [
      "240: Spearman Score: 0.4722\n",
      "  Test pair: 231, Skip pair: 9\n",
      "297: Spearman Score: 0.5775\n",
      "  Test pair: 284, Skip pair: 13\n"
     ]
    }
   ],
   "source": [
    "model_cbow = Word2Vec.load('../../compass/2-slices/model-cbow/compass.model')\n",
    "\n",
    "word_sim(model_cbow)"
   ]
  },
  {
   "cell_type": "code",
   "execution_count": 33,
   "metadata": {},
   "outputs": [
    {
     "name": "stdout",
     "output_type": "stream",
     "text": [
      "capital: Accuracy: 0.8227\n",
      "  Top five: 0.9793\n",
      "city: Accuracy: 0.9371\n",
      "  Top five: 0.9943\n",
      "family: Accuracy: 0.6985\n",
      "  Top five: 0.8824\n",
      "total: Accuracy: 0.8105\n",
      "  Top five: 0.9582\n"
     ]
    }
   ],
   "source": [
    "word_analogy(model_sgns)"
   ]
  },
  {
   "cell_type": "code",
   "execution_count": 34,
   "metadata": {},
   "outputs": [
    {
     "name": "stdout",
     "output_type": "stream",
     "text": [
      "capital: Accuracy: 0.8109\n",
      "  Top five: 0.9690\n",
      "city: Accuracy: 0.8400\n",
      "  Top five: 0.9600\n",
      "family: Accuracy: 0.5515\n",
      "  Top five: 0.7941\n",
      "total: Accuracy: 0.7527\n",
      "  Top five: 0.9253\n"
     ]
    }
   ],
   "source": [
    "word_analogy(model_cbow)"
   ]
  }
 ],
 "metadata": {
  "kernelspec": {
   "display_name": "virtual",
   "language": "python",
   "name": "python3"
  },
  "language_info": {
   "codemirror_mode": {
    "name": "ipython",
    "version": 3
   },
   "file_extension": ".py",
   "mimetype": "text/x-python",
   "name": "python",
   "nbconvert_exporter": "python",
   "pygments_lexer": "ipython3",
   "version": "3.7.9"
  }
 },
 "nbformat": 4,
 "nbformat_minor": 2
}
