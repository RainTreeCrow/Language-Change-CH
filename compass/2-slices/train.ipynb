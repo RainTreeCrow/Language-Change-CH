{
 "cells": [
  {
   "cell_type": "code",
   "execution_count": 1,
   "metadata": {},
   "outputs": [],
   "source": [
    "import sys\n",
    "sys.path.append('../twec')\n",
    "from twec import TWEC\n",
    "from gensim.models import Word2Vec\n",
    "\n",
    "compassdir = '../../corpus/2-slices/compass.txt'\n",
    "paths = ['../../corpus/2-slices/1954-1978.txt', '../../corpus/2-slices/1979-2003.txt']"
   ]
  },
  {
   "cell_type": "code",
   "execution_count": 2,
   "metadata": {},
   "outputs": [
    {
     "name": "stdout",
     "output_type": "stream",
     "text": [
      "Training the compass.\n"
     ]
    }
   ],
   "source": [
    "aligner_sgns = TWEC(sg=1, opath=\"model-sgns\")\n",
    "aligner_sgns.train_compass(compassdir)"
   ]
  },
  {
   "cell_type": "code",
   "execution_count": 3,
   "metadata": {},
   "outputs": [
    {
     "name": "stdout",
     "output_type": "stream",
     "text": [
      "Training temporal embeddings: slice ../../corpus/2-slices/1954-1978.txt.\n",
      "Initializing temporal embeddings from the atemporal compass.\n",
      "Training temporal embeddings: slice ../../corpus/2-slices/1979-2003.txt.\n",
      "Initializing temporal embeddings from the atemporal compass.\n"
     ]
    }
   ],
   "source": [
    "for path in paths:\n",
    "    aligner_sgns.train_slice(path, save=True)"
   ]
  },
  {
   "cell_type": "code",
   "execution_count": 4,
   "metadata": {},
   "outputs": [
    {
     "name": "stdout",
     "output_type": "stream",
     "text": [
      "Training the compass.\n"
     ]
    }
   ],
   "source": [
    "aligner_cbow = TWEC(sg=0, opath=\"model-cbow\")\n",
    "aligner_cbow.train_compass(compassdir)"
   ]
  },
  {
   "cell_type": "code",
   "execution_count": 5,
   "metadata": {},
   "outputs": [
    {
     "name": "stdout",
     "output_type": "stream",
     "text": [
      "Training temporal embeddings: slice ../../corpus/2-slices/1954-1978.txt.\n",
      "Initializing temporal embeddings from the atemporal compass.\n",
      "Training temporal embeddings: slice ../../corpus/2-slices/1979-2003.txt.\n",
      "Initializing temporal embeddings from the atemporal compass.\n"
     ]
    }
   ],
   "source": [
    "for path in paths:\n",
    "    aligner_cbow.train_slice(path, save=True)"
   ]
  }
 ],
 "metadata": {
  "kernelspec": {
   "display_name": "venv",
   "language": "python",
   "name": "python3"
  },
  "language_info": {
   "codemirror_mode": {
    "name": "ipython",
    "version": 3
   },
   "file_extension": ".py",
   "mimetype": "text/x-python",
   "name": "python",
   "nbconvert_exporter": "python",
   "pygments_lexer": "ipython3",
   "version": "3.7.9"
  }
 },
 "nbformat": 4,
 "nbformat_minor": 2
}
