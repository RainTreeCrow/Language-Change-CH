{
 "cells": [
  {
   "cell_type": "code",
   "execution_count": null,
   "metadata": {},
   "outputs": [],
   "source": [
    "import pickle\n",
    "from clustering import obtain_clusterings, plot_usage_distribution, get_prototypes\n",
    "\n",
    "with open('/usages128.dict', 'rb') as f:\n",
    "    usages = pickle.load(f)\n",
    "\n",
    "clusterings = obtain_clusterings(\n",
    "    usages,\n",
    "    out_path='data/gulordava/century/usages_len128.clustering.2.dict',\n",
    "    method='kmeans',\n",
    "    criterion='silhouette'\n",
    ")\n",
    "\n",
    "plot_usage_distribution(usages, clusterings, '/Users/mario/Desktop/plots/new/', normalized=True)\n",
    "\n",
    "for w in usages:\n",
    "    p = get_prototypes(w, clusterings[w], usages[w])\n",
    "    print('>>>', w.upper())\n",
    "    for i, cluster in enumerate(p):\n",
    "        print('cluster', i)\n",
    "        for s in cluster:\n",
    "            print(s)\n",
    "    print()"
   ]
  }
 ],
 "metadata": {
  "language_info": {
   "name": "python"
  }
 },
 "nbformat": 4,
 "nbformat_minor": 2
}
