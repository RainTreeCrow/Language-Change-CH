{
 "cells": [
  {
   "cell_type": "code",
   "execution_count": 1,
   "metadata": {},
   "outputs": [],
   "source": [
    "import os\n",
    "\n",
    "sentdir = '../corpus/sent/'\n",
    "tworawdir = '../corpus/2-raw'\n",
    "\n",
    "if not os.path.exists(tworawdir):\n",
    "    os.makedirs(tworawdir)\n",
    "\n",
    "\n",
    "before = '../corpus/2-raw/1954-1978.txt'\n",
    "after = '../corpus/2-raw/1979-2003.txt'\n",
    "corpus = '../corpus/2-raw/corpus.txt'\n",
    "\n",
    "bf = open(before, 'w', encoding='utf-8')\n",
    "af = open(after, 'w', encoding='utf-8')\n",
    "cf = open(corpus, 'w', encoding='utf-8')\n",
    "\n",
    "for i in range(1954, 1979):\n",
    "    path = sentdir + str(i) + '.txt'\n",
    "    for line in open(path, encoding='utf-8'):\n",
    "        bf.write(line)\n",
    "        cf.write(line)\n",
    "bf.close()\n",
    "\n",
    "for i in range(1979, 2004):\n",
    "    path = sentdir + str(i) + '.txt'\n",
    "    for line in open(path, encoding='utf-8'):\n",
    "        af.write(line)\n",
    "        cf.write(line)\n",
    "af.close()\n",
    "cf.close()"
   ]
  },
  {
   "cell_type": "code",
   "execution_count": 2,
   "metadata": {},
   "outputs": [],
   "source": [
    "import random\n",
    "\n",
    "corpus = '../corpus/2-raw/corpus.txt'\n",
    "train = '../corpus/2-raw/train.txt'\n",
    "val = '../corpus/2-raw/val.txt'\n",
    "\n",
    "def split_dataset(corpus_path, train_path, val_path, train_ratio=0.9, seed=42):\n",
    "    random.seed(seed)\n",
    "    \n",
    "    with open(corpus_path, 'r', encoding='utf-8') as f:\n",
    "        lines = f.readlines()\n",
    "    \n",
    "    random.shuffle(lines)\n",
    "    \n",
    "    train_size = int(len(lines) * train_ratio)\n",
    "    train_lines = lines[:train_size]\n",
    "    val_lines = lines[train_size:]\n",
    "    \n",
    "    with open(train_path, 'w', encoding='utf-8') as f:\n",
    "        f.writelines(train_lines)\n",
    "    \n",
    "    with open(val_path, 'w', encoding='utf-8') as f:\n",
    "        f.writelines(val_lines)\n",
    "\n",
    "split_dataset(corpus, train, val)"
   ]
  }
 ],
 "metadata": {
  "kernelspec": {
   "display_name": "virtual",
   "language": "python",
   "name": "python3"
  },
  "language_info": {
   "codemirror_mode": {
    "name": "ipython",
    "version": 3
   },
   "file_extension": ".py",
   "mimetype": "text/x-python",
   "name": "python",
   "nbconvert_exporter": "python",
   "pygments_lexer": "ipython3",
   "version": "3.7.9"
  }
 },
 "nbformat": 4,
 "nbformat_minor": 2
}
