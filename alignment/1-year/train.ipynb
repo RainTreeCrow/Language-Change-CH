{
 "cells": [
  {
   "cell_type": "code",
   "execution_count": 1,
   "metadata": {},
   "outputs": [],
   "source": [
    "import sys\n",
    "sys.path.append('../hist')\n",
    "from hist import train_aligned\n",
    "\n",
    "yearlydir = '../../corpus/1-year/'"
   ]
  },
  {
   "cell_type": "code",
   "execution_count": 2,
   "metadata": {},
   "outputs": [],
   "source": [
    "base_sgns = train_aligned(yearlydir + '1946.txt', sg=1, opath=\"model-sgns\")"
   ]
  },
  {
   "cell_type": "code",
   "execution_count": 3,
   "metadata": {},
   "outputs": [],
   "source": [
    "for i in range(1947, 2024):\n",
    "    year = yearlydir + str(i) + '.txt'\n",
    "    base_sgns = train_aligned(year, base_sgns, sg=1, opath=\"model-sgns\")"
   ]
  },
  {
   "cell_type": "code",
   "execution_count": 4,
   "metadata": {},
   "outputs": [],
   "source": [
    "base_cbow = train_aligned(yearlydir + '1946.txt', sg=0, opath=\"model-cbow\")"
   ]
  },
  {
   "cell_type": "code",
   "execution_count": 5,
   "metadata": {},
   "outputs": [],
   "source": [
    "for i in range(1947, 2024):\n",
    "    year = yearlydir + str(i) + '.txt'\n",
    "    base_cbow = train_aligned(year, base_cbow, sg=0, opath=\"model-cbow\")"
   ]
  }
 ],
 "metadata": {
  "kernelspec": {
   "display_name": "venv",
   "language": "python",
   "name": "python3"
  },
  "language_info": {
   "codemirror_mode": {
    "name": "ipython",
    "version": 3
   },
   "file_extension": ".py",
   "mimetype": "text/x-python",
   "name": "python",
   "nbconvert_exporter": "python",
   "pygments_lexer": "ipython3",
   "version": "3.7.9"
  }
 },
 "nbformat": 4,
 "nbformat_minor": 2
}
