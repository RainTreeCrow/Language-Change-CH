{
 "cells": [
  {
   "cell_type": "code",
   "execution_count": 3,
   "metadata": {},
   "outputs": [],
   "source": [
    "import sys\n",
    "sys.path.append('../hist')\n",
    "from hist import train_aligned\n",
    "\n",
    "before = 'D:/人民日报/2-slices/1954-1978.txt'\n",
    "after = 'D:/人民日报/2-slices/1979-2003.txt'"
   ]
  },
  {
   "cell_type": "code",
   "execution_count": 4,
   "metadata": {},
   "outputs": [],
   "source": [
    "base_sgns = train_aligned(before, sg=1, opath=\"model-sgns\")\n",
    "train_aligned(after, base_sgns, sg=1, opath=\"model-sgns\")"
   ]
  },
  {
   "cell_type": "code",
   "execution_count": null,
   "metadata": {},
   "outputs": [],
   "source": [
    "base_cbow = train_aligned(before, sg=0, opath=\"model-cbow\")\n",
    "train_aligned(after, base_cbow, sg=0, opath=\"model-cbow\")"
   ]
  }
 ],
 "metadata": {
  "kernelspec": {
   "display_name": "venv",
   "language": "python",
   "name": "python3"
  },
  "language_info": {
   "codemirror_mode": {
    "name": "ipython",
    "version": 3
   },
   "file_extension": ".py",
   "mimetype": "text/x-python",
   "name": "python",
   "nbconvert_exporter": "python",
   "pygments_lexer": "ipython3",
   "version": "3.7.9"
  }
 },
 "nbformat": 4,
 "nbformat_minor": 2
}
