{
 "cells": [
  {
   "cell_type": "markdown",
   "metadata": {},
   "source": [
    "Though pkuseg claims to be outperform jieba and thulac on some golden test datasets. However, it is highly **NOT** recommended to use the specified news model instead of the default, mixed-field model. For the news model performs extremely bad on English words like peoples' names (though they are more often transliterated in our People's Daily news corpus), brand names (Apple, Microsoft), abbreviation of disease and virus (H1N1, SARS, MERS), cutting them all up. We would however prefer to preserve such foreign names (CD, DVD, BP机) rather than simply removing everything that is beyond Chinese characters."
   ]
  },
  {
   "cell_type": "code",
   "execution_count": 1,
   "metadata": {},
   "outputs": [
    {
     "name": "stdout",
     "output_type": "stream",
     "text": [
      "Model loaded succeed\n"
     ]
    }
   ],
   "source": [
    "import jieba\n",
    "import pkuseg\n",
    "import thulac\n",
    "import re\n",
    "\n",
    "pku = pkuseg.pkuseg()\n",
    "pku_news = pkuseg.pkuseg(model_name='news')\n",
    "thu = thulac.thulac()"
   ]
  },
  {
   "cell_type": "code",
   "execution_count": 9,
   "metadata": {},
   "outputs": [],
   "source": [
    "sentences = [\"Alex James比起CD更喜欢听MP3。\",\n",
    "    \"Microsoft和Apple的股价最近分别上涨了0.1和0.01个百分点。\",\n",
    "    \"SARS和甲型H1N1流感都一度对中国社会造成很大冲击。\",\n",
    "    \"Lily，发生什么事了？Hello？你还好吗？\",\n",
    "    \"她要去看Justin Bieber和Taylor Swift的演唱会。\",\n",
    "    \"QQ和微信哪一个在学生当中更流行？\",\n",
    "    \"大哥大和BP机都早就过时了！现在我们都用iPhone。\",\n",
    "    \"这部电影是VCD还是DVD播放？\",\n",
    "    \"这次的MERS病毒大流行听起来比H2N2，H5N6和H7N9都还要吓人！\",\n",
    "    \"自从2022年俄乌冲突以来，俄乌关系引发了全世界的广泛关注……\"\n",
    "]"
   ]
  },
  {
   "cell_type": "code",
   "execution_count": 10,
   "metadata": {},
   "outputs": [
    {
     "name": "stdout",
     "output_type": "stream",
     "text": [
      "jieba    ['Alex', ' ', 'James', '比起', 'CD', '更', '喜欢', '听', 'MP3', '。']\n",
      "pku-seg  ['Alex', 'James', '比起', 'CD', '更', '喜欢', '听', 'MP3', '。']\n",
      "pku-news ['Alex', 'Ja', 'm', 'e', 's', '比', '起', 'CD', '更', '喜欢', '听', 'MP3', '。']\n",
      "thu-lac ['Alex', ' ', 'James', '比', '起', 'CD', '更', '喜欢', '听', 'MP3', '。']\n",
      "\n",
      "jieba    ['Microsoft', '和', 'Apple', '的', '股价', '最近', '分别', '上涨', '了', '0.1', '和', '0.01', '个', '百分点', '。']\n",
      "pku-seg  ['Microsoft', '和', 'Apple', '的', '股价', '最近', '分别', '上涨', '了', '0.1', '和', '0.01', '个', '百分点', '。']\n",
      "pku-news ['Mi', 'cr', 'o', 'so', 'ft', '和', 'Apple', '的', '股价', '最近', '分别', '上涨', '了', '0.1', '和', '0', '.', '01个百分点', '。']\n",
      "thu-lac ['Microsoft', '和', 'Apple', '的', '股', '价', '最近', '分别', '上涨', '了', '0', '.', '1', '和', '0', '.', '01', '个', '百分点', '。']\n",
      "\n",
      "jieba    ['SARS', '和', '甲型', 'H1N1', '流感', '都', '一度', '对', '中国', '社会', '造成', '很大', '冲击', '。']\n",
      "pku-seg  ['SARS', '和', '甲型', 'H1N1', '流感', '都', '一度', '对', '中国', '社会', '造成', '很', '大', '冲击', '。']\n",
      "pku-news ['SARS', '和', '甲型', 'H1', 'N', '1流感', '都', '一度', '对', '中国', '社会', '造成', '很', '大', '冲击', '。']\n",
      "thu-lac ['SARS', '和', '甲型', 'H1N1流感', '都', '一度', '对', '中国', '社会', '造成', '很', '大', '冲击', '。']\n",
      "\n",
      "jieba    ['Lily', '，', '发生', '什么', '事', '了', '？', 'Hello', '？', '你', '还好', '吗', '？']\n",
      "pku-seg  ['Lily', '，', '发生', '什么', '事', '了', '？', 'Hello', '？', '你', '还', '好', '吗', '？']\n",
      "pku-news ['Li', 'ly', '，', '发生', '什么', '事', '了', '？', 'H', 'e', 'l', 'l', 'o', '？', '你', '还', '好', '吗', '？']\n",
      "thu-lac ['Lily', '，', '发生', '什', '么', '事', '了', '？', 'Hello', '？', '你', '还', '好', '吗', '？']\n",
      "\n",
      "jieba    ['她', '要', '去', '看', 'Justin', ' ', 'Bieber', '和', 'Taylor', ' ', 'Swift', '的', '演唱会', '。']\n",
      "pku-seg  ['她', '要', '去', '看', 'Justin', 'Bieber', '和', 'Taylor', 'Swift', '的', '演唱会', '。']\n",
      "pku-news ['她', '要', '去', '看', 'J', 'u', 's', 't', 'i', 'n', 'Bi', 'eb', 'er', '和', 'Tay', 'l', 'or', 'Swift', '的', '演唱会', '。']\n",
      "thu-lac ['她', '要', '去', '看', 'Justin', ' ', 'Bieber', '和', 'Taylor', ' ', 'Swift', '的', '演唱会', '。']\n",
      "\n",
      "jieba    ['QQ', '和', '微信', '哪', '一个', '在', '学生', '当中', '更', '流行', '？']\n",
      "pku-seg  ['QQ', '和', '微信', '哪', '一个', '在', '学生', '当中', '更', '流行', '？']\n",
      "pku-news ['QQ', '和', '微信', '哪', '一个', '在', '学生', '当中', '更', '流行', '？']\n",
      "thu-lac ['QQ', '和', '微信', '哪', '一个', '在', '学生', '当中', '更', '流行', '？']\n",
      "\n",
      "jieba    ['大哥大', '和', 'BP机', '都', '早就', '过时', '了', '！', '现在', '我们', '都', '用', 'iPhone', '。']\n",
      "pku-seg  ['大哥大', '和', 'BP机', '都', '早就', '过时', '了', '！', '现在', '我们', '都', '用', 'iPhone', '。']\n",
      "pku-news ['大哥大', '和', 'BP机', '都', '早就', '过时', '了', '！', '现在', '我们', '都', '用', 'iPhone', '。']\n",
      "thu-lac ['大哥大', '和', 'BP机', '都', '早就', '过时', '了', '！', '现在', '我们', '都', '用', 'iPhone', '。']\n",
      "\n",
      "jieba    ['这部', '电影', '是', 'VCD', '还是', 'DVD', '播放', '？']\n",
      "pku-seg  ['这部', '电影', '是', 'VCD', '还是', 'DVD', '播放', '？']\n",
      "pku-news ['这部', '电影', '是', 'VCD', '还是', 'DVD', '播放', '？']\n",
      "thu-lac ['这部', '电影', '是', 'VCD', '还是', 'DVD', '播放', '？']\n",
      "\n",
      "jieba    ['这次', '的', 'MERS', '病毒', '大', '流行', '听', '起来', '比', 'H2N2', '，', 'H5N6', '和', 'H7N9', '都', '还要', '吓人', '！']\n",
      "pku-seg  ['这次', '的', 'MERS', '病毒', '大', '流行', '听', '起来', '比', 'H2N2', '，', 'H5N6', '和', 'H7N9', '都', '还要', '吓人', '！']\n",
      "pku-news ['这次', '的', 'MERS', '病毒', '大', '流行', '听', '起来', '比', 'H', '2', 'N', '2', '，', 'H', '5N6', '和', 'H', '7', 'N', '9', '都', '还要', '吓人', '！']\n",
      "thu-lac ['这次', '的', 'MERS', '病毒', '大', '流行', '听', '起', '来', '比', 'H2N2', '，', 'H5N6', '和', 'H7N9', '都', '还要', '吓', '人', '！']\n",
      "\n",
      "jieba    ['自从', '2022', '年', '俄', '乌', '冲突', '以来', '，', '俄乌', '关系', '引发', '了', '全世界', '的', '广泛', '关注', '…', '…']\n",
      "pku-seg  ['自从', '2022年', '俄', '乌', '冲突', '以来', '，', '俄', '乌', '关系', '引发', '了', '全世界', '的', '广泛', '关注', '……']\n",
      "pku-news ['自从', '2022年', '俄', '乌', '冲突', '以来', '，', '俄', '乌', '关系', '引发', '了', '全世界', '的', '广泛', '关注', '……']\n",
      "thu-lac ['自从', '2022年', '俄', '乌', '冲突', '以', '来', '，', '俄', '乌', '关系', '引发', '了', '全世界', '的', '广泛', '关注', '…', '…']\n",
      "\n"
     ]
    }
   ],
   "source": [
    "for sentence in sentences:\n",
    "    print('jieba   ', jieba.lcut(sentence))\n",
    "    print('pku-seg ', pku.cut(sentence))\n",
    "    print('pku-news', pku_news.cut(sentence))\n",
    "    print('thu-lac', [pair[0] for pair in thu.cut(sentence)])\n",
    "    print()"
   ]
  },
  {
   "cell_type": "markdown",
   "metadata": {},
   "source": [
    "We look at \"words\" that are made of Chinese characters, the English alphabet (a-z, A-Z), '-' and '.', digits are also allowed if they are part of a name (MP3), but removed if they are pure numbers (10, 0.1) or phone numbers (010-22-19391)."
   ]
  },
  {
   "cell_type": "code",
   "execution_count": 34,
   "metadata": {},
   "outputs": [
    {
     "name": "stdout",
     "output_type": "stream",
     "text": [
      "['Microsoft', '和', 'MP3', '的', '股价', '最近', '分别', '上涨', '了', '和', '个', '百分点']\n"
     ]
    }
   ],
   "source": [
    "words = []\n",
    "\n",
    "for word in pku.cut(\"Microsoft和MP3的股价最近分别上涨了10%和0.01个百分点。\"):\n",
    "    if not (re.search('[^\\.\\-0-9a-zA-Z\\u4e00-\\u9fa5]+', word) or re.match('[\\.\\-\\d]+', word)):\n",
    "        words.append(word)\n",
    "\n",
    "print(words)"
   ]
  },
  {
   "cell_type": "code",
   "execution_count": 35,
   "metadata": {},
   "outputs": [
    {
     "name": "stdout",
     "output_type": "stream",
     "text": [
      "['请', '在', '工作', '时间', '内', '拨打', '电话', '号码', '垂询']\n"
     ]
    }
   ],
   "source": [
    "words = []\n",
    "\n",
    "for word in pku.cut(\"请在工作时间8:00-17:00内拨打电话号码010-22-19391垂询。\"):\n",
    "    if not (re.search('[^\\.\\-0-9a-zA-Z\\u4e00-\\u9fa5]+', word) or re.match('[\\.\\-\\d]+', word)):\n",
    "        words.append(word)\n",
    "\n",
    "print(words)"
   ]
  }
 ],
 "metadata": {
  "kernelspec": {
   "display_name": "virtual",
   "language": "python",
   "name": "python3"
  },
  "language_info": {
   "codemirror_mode": {
    "name": "ipython",
    "version": 3
   },
   "file_extension": ".py",
   "mimetype": "text/x-python",
   "name": "python",
   "nbconvert_exporter": "python",
   "pygments_lexer": "ipython3",
   "version": "3.7.9"
  }
 },
 "nbformat": 4,
 "nbformat_minor": 2
}
