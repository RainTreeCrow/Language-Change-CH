{
 "cells": [
  {
   "cell_type": "markdown",
   "metadata": {},
   "source": [
    "Merging yearly text to 5-year bins and two slices (1954-1978 vs. 1979-2003)."
   ]
  },
  {
   "cell_type": "code",
   "execution_count": 3,
   "metadata": {},
   "outputs": [],
   "source": [
    "import os\n",
    "\n",
    "yearlydir = '../corpus/1-year/'\n",
    "twoslicedir = '../corpus/2-slices'\n",
    "fiveyeardir = '../corpus/5-year/'\n",
    "\n",
    "for newdir in [yearlydir, twoslicedir, fiveyeardir]:\n",
    "    if not os.path.exists(newdir):\n",
    "        os.makedirs(newdir)"
   ]
  },
  {
   "cell_type": "code",
   "execution_count": 4,
   "metadata": {},
   "outputs": [],
   "source": [
    "before = '../corpus/2-slices/1954-1978.txt'\n",
    "after = '../corpus/2-slices/1979-2003.txt'\n",
    "compass = '../corpus/2-slices/compass.txt'\n",
    "\n",
    "bf = open(before, 'w', encoding='utf-8')\n",
    "af = open(after, 'w', encoding='utf-8')\n",
    "cf = open(compass, 'w', encoding='utf-8')\n",
    "\n",
    "for i in range(1954, 1979):\n",
    "    path = yearlydir + str(i) + '.txt'\n",
    "    for line in open(path, encoding='utf-8'):\n",
    "        bf.write(line)\n",
    "        cf.write(line)\n",
    "bf.close()\n",
    "\n",
    "for i in range(1979, 2004):\n",
    "    path = yearlydir + str(i) + '.txt'\n",
    "    for line in open(path, encoding='utf-8'):\n",
    "        af.write(line)\n",
    "        cf.write(line)\n",
    "af.close()\n",
    "cf.close()"
   ]
  },
  {
   "cell_type": "code",
   "execution_count": 5,
   "metadata": {},
   "outputs": [],
   "source": [
    "compass = '../corpus/compass.txt'\n",
    "\n",
    "fiveyear = fiveyeardir + '1945-1949.txt'\n",
    "ff = open(fiveyear, 'w', encoding='utf-8')\n",
    "cf = open(compass, 'w', encoding='utf-8')\n",
    "\n",
    "for i in range(1946, 2024):\n",
    "    if i % 5 == 0:\n",
    "        ff.close()\n",
    "        fiveyear = fiveyeardir + str(i) + '-' + str(i + 4) + '.txt'\n",
    "        ff = open(fiveyear, 'w', encoding='utf-8')\n",
    "    path = yearlydir + str(i) + '.txt'\n",
    "    for line in open(path, encoding='utf-8'):\n",
    "        ff.write(line)\n",
    "        cf.write(line)\n",
    "ff.close()\n",
    "cf.close()"
   ]
  }
 ],
 "metadata": {
  "kernelspec": {
   "display_name": "virtual",
   "language": "python",
   "name": "python3"
  },
  "language_info": {
   "codemirror_mode": {
    "name": "ipython",
    "version": 3
   },
   "file_extension": ".py",
   "mimetype": "text/x-python",
   "name": "python",
   "nbconvert_exporter": "python",
   "pygments_lexer": "ipython3",
   "version": "3.7.9"
  }
 },
 "nbformat": 4,
 "nbformat_minor": 2
}
