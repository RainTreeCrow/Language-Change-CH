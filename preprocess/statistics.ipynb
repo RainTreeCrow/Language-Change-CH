{
 "cells": [
  {
   "cell_type": "code",
   "execution_count": 1,
   "metadata": {},
   "outputs": [],
   "source": [
    "word_all = []\n",
    "word_list = []\n",
    "countfile = 'D:/人民日报/frequency/1946.txt'\n",
    "\n",
    "with open(countfile, encoding='utf-8') as cf:\n",
    "    for line in cf:\n",
    "        split_line = line.split()\n",
    "        word_all.append(split_line[0])\n",
    "        if int(split_line[1]) > 100:\n",
    "            word_list.append(split_line[0])\n",
    "\n",
    "for i in range(1946, 2024):\n",
    "    temp_all = []\n",
    "    temp_list = []\n",
    "    countfile = 'D:/人民日报/frequency/' + str(i) + '.txt'\n",
    "    with open(countfile, encoding='utf-8') as cf:\n",
    "        for line in cf:\n",
    "            split_line = line.split()\n",
    "            temp_all.append(split_line[0])\n",
    "            if int(split_line[1]) > 100:\n",
    "                temp_list.append(split_line[0])\n",
    "    \n",
    "    word_all = list(set(word_all) | set(temp_all))\n",
    "    word_list = list(set(word_list) & set(temp_list))\n",
    "\n",
    "f = open('D:/人民日报/vocab_filtered.txt','w',encoding='utf-8')\n",
    "for word in word_list:\n",
    "    f.write(word + \" \")\n",
    "f.close()\n",
    "\n",
    "af = open('D:/人民日报/vocabulary.txt','w',encoding='utf-8')\n",
    "for word in word_all:\n",
    "    af.write(word + \" \")\n",
    "af.close()"
   ]
  },
  {
   "cell_type": "code",
   "execution_count": 2,
   "metadata": {},
   "outputs": [
    {
     "name": "stdout",
     "output_type": "stream",
     "text": [
      "Total word count (every word that ever occurred): 3793774\n",
      "Filtered word count (occurring more than 100 times every year): 1029\n"
     ]
    }
   ],
   "source": [
    "print(\"Total word count (every word that ever occurred):\", len(word_all))\n",
    "print(\"Filtered word count (occurring more than 100 times every year):\", len(word_list))"
   ]
  },
  {
   "cell_type": "code",
   "execution_count": 6,
   "metadata": {},
   "outputs": [],
   "source": [
    "import re\n",
    "\n",
    "non_chinese = [word for word in word_all if re.search('[^\\u4e00-\\u9fa5]', word)]\n",
    "\n",
    "nf = open('D:/人民日报/non_chinese.txt','w',encoding='utf-8')\n",
    "for word in non_chinese:\n",
    "    nf.write(word + \" \")\n",
    "nf.close()"
   ]
  },
  {
   "cell_type": "code",
   "execution_count": 7,
   "metadata": {},
   "outputs": [
    {
     "name": "stdout",
     "output_type": "stream",
     "text": [
      "Non-Chinese word count: 66515\n"
     ]
    }
   ],
   "source": [
    "print(\"Non-Chinese word count:\", len(non_chinese))"
   ]
  }
 ],
 "metadata": {
  "kernelspec": {
   "display_name": "virtual",
   "language": "python",
   "name": "python3"
  },
  "language_info": {
   "codemirror_mode": {
    "name": "ipython",
    "version": 3
   },
   "file_extension": ".py",
   "mimetype": "text/x-python",
   "name": "python",
   "nbconvert_exporter": "python",
   "pygments_lexer": "ipython3",
   "version": "3.7.9"
  }
 },
 "nbformat": 4,
 "nbformat_minor": 2
}
