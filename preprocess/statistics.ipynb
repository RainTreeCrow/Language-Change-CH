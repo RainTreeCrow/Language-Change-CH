{
 "cells": [
  {
   "cell_type": "markdown",
   "metadata": {},
   "source": [
    "Merge 1-year frequency files to 5-year."
   ]
  },
  {
   "cell_type": "code",
   "execution_count": 2,
   "metadata": {},
   "outputs": [],
   "source": [
    "import os\n",
    "import pandas as pd\n",
    "\n",
    "# Folder paths\n",
    "input_folder = '../corpus/frequency'\n",
    "output_folder = '../corpus/freq-5'\n",
    "\n",
    "# Create the output folder if it doesn't exist\n",
    "os.makedirs(output_folder, exist_ok=True)\n",
    "\n",
    "# Dictionary to store data frames for each year\n",
    "data_frames = {}\n",
    "\n",
    "# Read each year's file\n",
    "for year in range(1946, 2024):\n",
    "    file_path = os.path.join(input_folder, f'{year}.txt')\n",
    "    if os.path.isfile(file_path):\n",
    "        # Read the file and convert data to DataFrame\n",
    "        df = pd.read_csv(file_path, sep=' ', header=None, \\\n",
    "            names=['word', 'count'], dtype={'word': str, 'count': int})\n",
    "        data_frames[year] = df\n",
    "\n",
    "# Combine data by five-year periods\n",
    "for start_year in range(1945, 2025, 5):\n",
    "    end_year = start_year + 4\n",
    "    combined_df = pd.DataFrame()\n",
    "\n",
    "    # Merge data for all years in the specified period\n",
    "    for year in range(start_year, end_year + 1):\n",
    "        if year in data_frames:\n",
    "            combined_df = combined_df.append(data_frames[year])\n",
    "\n",
    "    # Group by 'word' and sum up the counts\n",
    "    combined_df = combined_df.groupby('word', as_index=False).sum()\n",
    "    # Sort the combined data by count in descending order\n",
    "    combined_df = combined_df.sort_values(by='count', ascending=False)\n",
    "\n",
    "    # Save the combined data to a file\n",
    "    output_file = os.path.join(output_folder, f'{start_year}-{end_year}.txt')\n",
    "    combined_df.to_csv(output_file, sep=' ', index=False, header=False)"
   ]
  },
  {
   "cell_type": "code",
   "execution_count": 4,
   "metadata": {},
   "outputs": [],
   "source": [
    "word_all = []\n",
    "word_list = []\n",
    "countfile = '../corpus/freq-5/1945-1949.txt'\n",
    "\n",
    "with open(countfile, encoding='utf-8') as cf:\n",
    "    for line in cf:\n",
    "        split_line = line.split()\n",
    "        word_all.append(split_line[0])\n",
    "        if int(split_line[1]) > 100:\n",
    "            word_list.append(split_line[0])\n",
    "        else:\n",
    "            break\n",
    "\n",
    "for i in range(1950, 2025, 5):\n",
    "    temp_all = []\n",
    "    temp_list = []\n",
    "    countfile = '../corpus/freq-5/' + str(i) + '-' + str(i+4) +'.txt'\n",
    "    with open(countfile, encoding='utf-8') as cf:\n",
    "        for line in cf:\n",
    "            split_line = line.split()\n",
    "            temp_all.append(split_line[0])\n",
    "            if int(split_line[1]) > 100:\n",
    "                temp_list.append(split_line[0])\n",
    "            else:\n",
    "                break\n",
    "    \n",
    "    word_all = list(set(word_all) | set(temp_all))\n",
    "    word_list = list(set(word_list) & set(temp_list))\n",
    "\n",
    "f = open('../corpus/vocab_filter.txt','w',encoding='utf-8')\n",
    "for word in word_list:\n",
    "    f.write(word + \" \")\n",
    "f.close()\n",
    "\n",
    "af = open('../corpus/vocab_all.txt','w',encoding='utf-8')\n",
    "for word in word_all:\n",
    "    af.write(word + \" \")\n",
    "af.close()"
   ]
  },
  {
   "cell_type": "code",
   "execution_count": 5,
   "metadata": {},
   "outputs": [
    {
     "name": "stdout",
     "output_type": "stream",
     "text": [
      "Total word count (every word that ever occurred): 70641\n",
      "Filtered word count (occurring more than 100 times every 5 years): 5983\n"
     ]
    }
   ],
   "source": [
    "print(\"Total word count (every word that ever occurred):\", len(word_all))\n",
    "print(\"Filtered word count (occurring more than 100 times every 5 years):\", len(word_list))"
   ]
  },
  {
   "cell_type": "code",
   "execution_count": 4,
   "metadata": {},
   "outputs": [],
   "source": [
    "import re\n",
    "\n",
    "non_chinese = [word for word in word_all if re.search('[^\\u4e00-\\u9fa5]', word)]\n",
    "\n",
    "nf = open('../corpus/vocab_nonch.txt','w',encoding='utf-8')\n",
    "for word in non_chinese:\n",
    "    nf.write(word + \" \")\n",
    "nf.close()"
   ]
  },
  {
   "cell_type": "code",
   "execution_count": 5,
   "metadata": {},
   "outputs": [
    {
     "name": "stdout",
     "output_type": "stream",
     "text": [
      "Non-Chinese word count: 39235\n"
     ]
    }
   ],
   "source": [
    "print(\"Non-Chinese word count:\", len(non_chinese))"
   ]
  },
  {
   "cell_type": "markdown",
   "metadata": {},
   "source": [
    "We also look at the vocabulary size for trained Word2Vec models."
   ]
  },
  {
   "cell_type": "code",
   "execution_count": 6,
   "metadata": {},
   "outputs": [
    {
     "name": "stdout",
     "output_type": "stream",
     "text": [
      "Common vocabulary 1946-2023: 7865\n"
     ]
    }
   ],
   "source": [
    "from gensim.models.word2vec import Word2Vec\n",
    "\n",
    "model_path = '../alignment/1-year/model-sgns/2023.model'\n",
    "model = Word2Vec.load(model_path)\n",
    "print('Common vocabulary 1946-2023: ' + str(len(model.wv.vocab)))\n",
    "\n",
    "vf = open('../corpus/vocab_common.txt','w',encoding='utf-8')\n",
    "for word in model.wv.vocab:\n",
    "    vf.write(word + \" \")\n",
    "vf.close()"
   ]
  }
 ],
 "metadata": {
  "kernelspec": {
   "display_name": "virtual",
   "language": "python",
   "name": "python3"
  },
  "language_info": {
   "codemirror_mode": {
    "name": "ipython",
    "version": 3
   },
   "file_extension": ".py",
   "mimetype": "text/x-python",
   "name": "python",
   "nbconvert_exporter": "python",
   "pygments_lexer": "ipython3",
   "version": "3.7.9"
  }
 },
 "nbformat": 4,
 "nbformat_minor": 2
}
