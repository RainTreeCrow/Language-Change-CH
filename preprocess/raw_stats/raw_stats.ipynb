{
 "cells": [
  {
   "cell_type": "markdown",
   "metadata": {},
   "source": [
    "The newspaper itself was published on 15th May 1946. We have news data between May 1946 and December 2023 from https://github.com/prnake/CialloCorpus or https://huggingface.co/datasets/Papersnake/people_daily_news, but we notice January of 1970 is missing here, so the month is taken from https://github.com/caspiankexin/people-daily-crawler-date (around half of the data is missing from this source between 1991-1992, so we gave up using it as the main source)."
   ]
  },
  {
   "cell_type": "code",
   "execution_count": 74,
   "metadata": {},
   "outputs": [],
   "source": [
    "import json\n",
    "import os\n",
    "import csv\n",
    "from collections import defaultdict\n",
    "import statistics\n",
    "import matplotlib.pyplot as plt\n",
    "from matplotlib.ticker import FuncFormatter, ScalarFormatter\n",
    "\n",
    "\n",
    "def process_news_data(file_path):\n",
    "    year = int(file_path.split('/')[-1].split('.')[0])  # Extract year from filename\n",
    "    monthly_news_counts = defaultdict(int)\n",
    "    news_lengths = []\n",
    "\n",
    "    with open(file_path, 'r', encoding='utf-8') as file:\n",
    "        for line in file:\n",
    "            news_item = json.loads(line.strip())\n",
    "            date = news_item.get('date')\n",
    "            text = news_item.get('text', '')\n",
    "            if date and text:\n",
    "                month = int(date.split('.')[1])\n",
    "                monthly_news_counts[month] += 1\n",
    "                news_lengths.append(len(text))\n",
    "\n",
    "    if not monthly_news_counts:\n",
    "        return None\n",
    "    \n",
    "    missing_month = []\n",
    "    for i in range(1, 13):\n",
    "        if i not in monthly_news_counts.keys():\n",
    "            missing_month.append(i)\n",
    "    \n",
    "    if missing_month:\n",
    "        print('Months', str(missing_month), 'are missing for year', str(year))\n",
    "\n",
    "    max_news_month = max(monthly_news_counts, key=monthly_news_counts.get)\n",
    "    min_news_month = min(monthly_news_counts, key=monthly_news_counts.get)\n",
    "    total_news_count = sum(monthly_news_counts.values())\n",
    "    avg_news_per_month = total_news_count / 12\n",
    "    longest_news = max(news_lengths, default=0)\n",
    "    shortest_news = min(news_lengths, default=0)\n",
    "    avg_news_length = statistics.mean(news_lengths) if news_lengths else 0\n",
    "    total_news_length = sum(news_lengths)\n",
    "\n",
    "    return {\n",
    "        'year': year,\n",
    "        'max_month': max_news_month,\n",
    "        'max_count': monthly_news_counts[max_news_month],\n",
    "        'min_month': min_news_month,\n",
    "        'min_count': monthly_news_counts[min_news_month],\n",
    "        'avg_count': avg_news_per_month,\n",
    "        'total_count': total_news_count,\n",
    "        'longest': longest_news,\n",
    "        'shortest': shortest_news,\n",
    "        'avg_length': avg_news_length,\n",
    "        'total_length': total_news_length\n",
    "    }\n",
    "\n",
    "\n",
    "def process_all_years(data_directory):\n",
    "    yearly_stats = []\n",
    "    for filename in os.listdir(data_directory):\n",
    "        if filename.endswith('.jsonl'):\n",
    "            file_path = os.path.join(data_directory, filename)\n",
    "            stats = process_news_data(file_path)\n",
    "            if stats:\n",
    "                yearly_stats.append(stats)\n",
    "    return yearly_stats\n",
    "\n",
    "\n",
    "def write_stats_to_csv(yearly_stats, output_file):\n",
    "    with open(output_file, 'w', newline='', encoding='utf-8') as csvfile:\n",
    "        fieldnames = [\n",
    "            'year', 'max_month', 'max_count', 'min_month', 'min_count', 'avg_count', 'total_count',\n",
    "            'longest', 'shortest', 'avg_length', 'total_length'\n",
    "        ]\n",
    "        writer = csv.DictWriter(csvfile, fieldnames=fieldnames)\n",
    "        writer.writeheader()\n",
    "        for stats in yearly_stats:\n",
    "            writer.writerow(stats)\n",
    "\n",
    "\n",
    "def plot_stats(yearly_stats):\n",
    "    years = [int(stat['year']) for stat in yearly_stats]\n",
    "    total_counts = [stat['total_count'] for stat in yearly_stats]\n",
    "    total_lengths = [stat['total_length'] for stat in yearly_stats]\n",
    "\n",
    "    fig, ax1 = plt.subplots(1, 2, figsize=(12, 4))\n",
    "\n",
    "    ax1[0].plot(years, total_counts, marker='o')\n",
    "    ax1[0].set_title('Total News Count by Year')\n",
    "    ax1[0].set_xlabel('year')\n",
    "    ax1[0].set_ylabel('Total News Count (1e3)')\n",
    "    ax1[0].yaxis.set_major_formatter(FuncFormatter(lambda x, _: f'{int(x/1e3)}k'))\n",
    "\n",
    "    ax1[1].plot(years, total_lengths, marker='o', color='r')\n",
    "    ax1[1].set_title('Total News Length by Year')\n",
    "    ax1[1].set_xlabel('year')\n",
    "    ax1[1].set_ylabel('Total News Length (1e6)')\n",
    "    ax1[1].yaxis.set_major_formatter(FuncFormatter(lambda x, _: f'{int(x/1e6)}m'))\n",
    "\n",
    "    plt.tight_layout()\n",
    "    plt.savefig('raw_stats.png')\n",
    "    plt.close()"
   ]
  },
  {
   "cell_type": "code",
   "execution_count": 75,
   "metadata": {},
   "outputs": [
    {
     "name": "stdout",
     "output_type": "stream",
     "text": [
      "Months [1, 2, 3, 4] are missing for year 1946\n",
      "Months [1] are missing for year 1971\n"
     ]
    }
   ],
   "source": [
    "rawdir = '../../corpus/raw/'\n",
    "yearly_stats = process_all_years(rawdir)"
   ]
  },
  {
   "cell_type": "code",
   "execution_count": 76,
   "metadata": {},
   "outputs": [],
   "source": [
    "csv_file = 'raw_stats.csv'\n",
    "write_stats_to_csv(yearly_stats, csv_file)"
   ]
  },
  {
   "cell_type": "code",
   "execution_count": 77,
   "metadata": {},
   "outputs": [],
   "source": [
    "plot_stats(yearly_stats)"
   ]
  }
 ],
 "metadata": {
  "kernelspec": {
   "display_name": "virtual",
   "language": "python",
   "name": "python3"
  },
  "language_info": {
   "codemirror_mode": {
    "name": "ipython",
    "version": 3
   },
   "file_extension": ".py",
   "mimetype": "text/x-python",
   "name": "python",
   "nbconvert_exporter": "python",
   "pygments_lexer": "ipython3",
   "version": "3.7.9"
  }
 },
 "nbformat": 4,
 "nbformat_minor": 2
}
