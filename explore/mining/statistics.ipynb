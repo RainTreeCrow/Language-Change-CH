{
 "cells": [
  {
   "cell_type": "markdown",
   "metadata": {},
   "source": [
    "Frequency distribution of First-Last Distance."
   ]
  },
  {
   "cell_type": "code",
   "execution_count": 7,
   "metadata": {},
   "outputs": [],
   "source": [
    "import pandas as pd\n",
    "import matplotlib.pyplot as plt\n",
    "\n",
    "# Load the data from the CSV file\n",
    "df = pd.read_csv('word_distances.csv')\n",
    "\n",
    "# Extract the 'first-last dist' column\n",
    "distances = df['first-last dist']\n",
    "\n",
    "# Plot the distribution\n",
    "plt.figure(figsize=(6, 4), dpi=200)\n",
    "plt.hist(distances, bins=30, edgecolor='black', alpha=0.7)\n",
    "plt.xlabel('First-Last Distance')\n",
    "plt.ylabel('Frequency')\n",
    "\n",
    "# Save the plot as a PNG file\n",
    "plt.savefig('dist_distribution.png')\n",
    "plt.close()"
   ]
  },
  {
   "cell_type": "markdown",
   "metadata": {},
   "source": [
    "Precision at different First-Last Distance."
   ]
  },
  {
   "cell_type": "code",
   "execution_count": 10,
   "metadata": {},
   "outputs": [],
   "source": [
    "import pandas as pd\n",
    "import matplotlib.pyplot as plt\n",
    "\n",
    "# Load the CSV file\n",
    "df = pd.read_csv('judgement.csv')\n",
    "\n",
    "# Sort by 'first-last dist'\n",
    "df_sorted = df.sort_values(by='first-last dist')\n",
    "\n",
    "# Define a function to calculate precision\n",
    "def calculate_precision(sub_df):\n",
    "    total = len(sub_df)\n",
    "    if total == 0:\n",
    "        return 0\n",
    "    true_positives = (sub_df['change'] == 'yes').sum()\n",
    "    return true_positives / total\n",
    "\n",
    "# Initialize lists to store results\n",
    "distances = []\n",
    "precisions = []\n",
    "\n",
    "# Calculate precision for each 50-row window\n",
    "window_size = 50\n",
    "for start in range(0, len(df_sorted), window_size):\n",
    "    end = start + window_size\n",
    "    subset = df_sorted.iloc[start:end]\n",
    "    dist = subset['first-last dist'].min()\n",
    "    precision = calculate_precision(subset)\n",
    "    \n",
    "    distances.append(dist)\n",
    "    precisions.append(precision)\n",
    "\n",
    "# Plot the results\n",
    "plt.figure(figsize=(6, 4), dpi=200)\n",
    "plt.plot(distances, precisions, marker='o', linestyle='-', color='b')\n",
    "plt.xlabel('Minimum First-Last Distance in Window')\n",
    "plt.ylabel('Precision')\n",
    "plt.savefig('precision.png')\n",
    "plt.close()"
   ]
  }
 ],
 "metadata": {
  "kernelspec": {
   "display_name": "virtual",
   "language": "python",
   "name": "python3"
  },
  "language_info": {
   "codemirror_mode": {
    "name": "ipython",
    "version": 3
   },
   "file_extension": ".py",
   "mimetype": "text/x-python",
   "name": "python",
   "nbconvert_exporter": "python",
   "pygments_lexer": "ipython3",
   "version": "3.7.9"
  }
 },
 "nbformat": 4,
 "nbformat_minor": 2
}
