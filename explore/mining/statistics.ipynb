{
 "cells": [
  {
   "cell_type": "markdown",
   "metadata": {},
   "source": [
    "Frequency distribution of First-Last Distance."
   ]
  },
  {
   "cell_type": "code",
   "execution_count": 7,
   "metadata": {},
   "outputs": [],
   "source": [
    "import pandas as pd\n",
    "import matplotlib.pyplot as plt\n",
    "\n",
    "# Load the data from the CSV file\n",
    "df = pd.read_csv('word_distances.csv')\n",
    "\n",
    "# Extract the 'first-last dist' column\n",
    "distances = df['first-last dist']\n",
    "\n",
    "# Plot the distribution\n",
    "plt.figure(figsize=(6, 4), dpi=200)\n",
    "plt.hist(distances, bins=30, edgecolor='black', alpha=0.7)\n",
    "plt.xlabel('First-Last Distance')\n",
    "plt.ylabel('Frequency')\n",
    "\n",
    "# Save the plot as a PNG file\n",
    "plt.savefig('dist_distribution.png')\n",
    "plt.close()"
   ]
  },
  {
   "cell_type": "markdown",
   "metadata": {},
   "source": [
    "Precision at different First-Last Distance."
   ]
  },
  {
   "cell_type": "code",
   "execution_count": 10,
   "metadata": {},
   "outputs": [],
   "source": [
    "import pandas as pd\n",
    "import matplotlib.pyplot as plt\n",
    "\n",
    "# Load the CSV file\n",
    "df = pd.read_csv('judgement.csv')\n",
    "\n",
    "# Sort by 'first-last dist'\n",
    "df_sorted = df.sort_values(by='first-last dist')\n",
    "\n",
    "# Define a function to calculate precision\n",
    "def calculate_precision(sub_df):\n",
    "    total = len(sub_df)\n",
    "    if total == 0:\n",
    "        return 0\n",
    "    true_positives = (sub_df['change'] == 'yes').sum()\n",
    "    return true_positives / total\n",
    "\n",
    "# Initialize lists to store results\n",
    "distances = []\n",
    "precisions = []\n",
    "\n",
    "# Calculate precision for each 50-row window\n",
    "window_size = 50\n",
    "for start in range(0, len(df_sorted), window_size):\n",
    "    end = start + window_size\n",
    "    subset = df_sorted.iloc[start:end]\n",
    "    dist = subset['first-last dist'].min()\n",
    "    precision = calculate_precision(subset)\n",
    "    \n",
    "    distances.append(dist)\n",
    "    precisions.append(precision)\n",
    "\n",
    "# Plot the results\n",
    "plt.figure(figsize=(6, 4), dpi=200)\n",
    "plt.plot(distances, precisions, marker='o', linestyle='-', color='b')\n",
    "plt.xlabel('Minimum First-Last Distance in Window')\n",
    "plt.ylabel('Precision')\n",
    "plt.savefig('precision.png')\n",
    "plt.close()"
   ]
  },
  {
   "cell_type": "markdown",
   "metadata": {},
   "source": [
    "Distribution of change time."
   ]
  },
  {
   "cell_type": "code",
   "execution_count": 9,
   "metadata": {},
   "outputs": [],
   "source": [
    "import pandas as pd\n",
    "import matplotlib.pyplot as plt\n",
    "\n",
    "# 1. Read the CSV file\n",
    "df = pd.read_csv('judgement.csv')\n",
    "\n",
    "# 2. Filter rows where the 'change' column is 'yes'\n",
    "df_change = df[df['change'] == 'yes'].copy()\n",
    "\n",
    "# 3. Parse the 'time' column to extract year(s) and store them in a list\n",
    "def parse_years(time_str):\n",
    "    if '/' in time_str:\n",
    "        # If the string contains a '/', split it into two years and return them as a list\n",
    "        year_start, year_end = time_str.split('/')\n",
    "        return [int(year_start), int(year_end)]\n",
    "    else:\n",
    "        # If no '/', return the single year in a list\n",
    "        return [int(time_str)]\n",
    "\n",
    "# Apply the parsing function to the 'time' column and create a new column with lists of years\n",
    "df_change['years'] = df_change['time'].apply(parse_years)\n",
    "\n",
    "# Flatten the list of lists into a single list of years\n",
    "all_years = [year for sublist in df_change['years'] for year in sublist]\n",
    "\n",
    "# 4. Plot a histogram of the year distribution\n",
    "plt.figure(figsize=(6, 4), dpi=200)  # Set the figure size\n",
    "plt.hist(all_years, bins=range(min(all_years), max(all_years) + 10, 5), edgecolor='black')\n",
    "plt.xlabel('Year')  # X-axis label\n",
    "plt.ylabel('Frequency')  # Y-axis label\n",
    "plt.savefig('time_distribution.png')\n",
    "plt.close()"
   ]
  }
 ],
 "metadata": {
  "kernelspec": {
   "display_name": "virtual",
   "language": "python",
   "name": "python3"
  },
  "language_info": {
   "codemirror_mode": {
    "name": "ipython",
    "version": 3
   },
   "file_extension": ".py",
   "mimetype": "text/x-python",
   "name": "python",
   "nbconvert_exporter": "python",
   "pygments_lexer": "ipython3",
   "version": "3.7.9"
  }
 },
 "nbformat": 4,
 "nbformat_minor": 2
}
