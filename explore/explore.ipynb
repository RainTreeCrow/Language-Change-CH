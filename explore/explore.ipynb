{
 "cells": [
  {
   "cell_type": "code",
   "execution_count": 8,
   "metadata": {},
   "outputs": [],
   "source": [
    "from gensim.models.word2vec import Word2Vec\n",
    "\n",
    "modeldir = '../compass/5-year/model-cbow/'\n",
    "models = []\n",
    "\n",
    "for i in range(1945, 2025, 5):\n",
    "    fiveyear = modeldir + str(i) + '-' + str(i + 4) + '.model'\n",
    "    model = Word2Vec.load(fiveyear)\n",
    "    models.append(model)"
   ]
  },
  {
   "cell_type": "code",
   "execution_count": 9,
   "metadata": {},
   "outputs": [],
   "source": [
    "import numpy as np\n",
    "import csv\n",
    "\n",
    "def cosine_dist(x,y):\n",
    "    num = np.dot(x, y)\n",
    "    denom = np.linalg.norm(x) * np.linalg.norm(y)\n",
    "    return 1 - num / denom\n",
    "\n",
    "word_list = []\n",
    "with open('../corpus/vocab_common.txt', encoding='utf-8') as f:\n",
    "    for line in f:\n",
    "        word_list.extend(line.split())\n",
    "\n",
    "results = []\n",
    "\n",
    "for word in word_list:\n",
    "    word_vectors = [model.wv[word] for model in models_cbow if word in model.wv]\n",
    "\n",
    "    # Compute cosine distances between adjacent models\n",
    "    distances = []\n",
    "    for i in range(len(word_vectors) - 1):\n",
    "        dist = cosine_dist(word_vectors[i], word_vectors[i + 1])\n",
    "        distances.append(dist)\n",
    "\n",
    "    # Calculate max and sum of distances\n",
    "    max_dist = max(distances)\n",
    "    sum_dist = sum(distances)\n",
    "\n",
    "    # Calculate cosine distance between first and last model\n",
    "    first_last_dist = cosine_dist(word_vectors[0], word_vectors[-1])\n",
    "\n",
    "    # Append results\n",
    "    results.append([word, max_dist, sum_dist, first_last_dist])\n",
    "\n",
    "csv_file = 'word_distances.csv'\n",
    "\n",
    "with open(csv_file, 'w', newline='', encoding='utf-8') as file:\n",
    "    writer = csv.writer(file)\n",
    "    writer.writerow(['word', 'max dist', 'sum dist', 'first-last dist'])\n",
    "    writer.writerows(results)"
   ]
  }
 ],
 "metadata": {
  "kernelspec": {
   "display_name": "virtual",
   "language": "python",
   "name": "python3"
  },
  "language_info": {
   "codemirror_mode": {
    "name": "ipython",
    "version": 3
   },
   "file_extension": ".py",
   "mimetype": "text/x-python",
   "name": "python",
   "nbconvert_exporter": "python",
   "pygments_lexer": "ipython3",
   "version": "3.7.9"
  }
 },
 "nbformat": 4,
 "nbformat_minor": 2
}
